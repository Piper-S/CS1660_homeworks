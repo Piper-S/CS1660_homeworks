{
 "cells": [
  {
   "cell_type": "code",
   "execution_count": 1,
   "metadata": {},
   "outputs": [],
   "source": [
    "import boto3"
   ]
  },
  {
   "cell_type": "code",
   "execution_count": 2,
   "metadata": {},
   "outputs": [],
   "source": [
    "s3 = boto3.resource('s3',\n",
    " aws_access_key_id='',\n",
    " aws_secret_access_key=''\n",
    ")"
   ]
  },
  {
   "cell_type": "code",
   "execution_count": 3,
   "metadata": {},
   "outputs": [
    {
     "name": "stdout",
     "output_type": "stream",
     "text": [
      "this may already exist\n"
     ]
    }
   ],
   "source": [
    "try:\n",
    " s3.create_bucket(Bucket='datacont-piper', CreateBucketConfiguration={'LocationConstraint': 'us-west-2'})\n",
    "except:\n",
    " print(\"this may already exist\")"
   ]
  },
  {
   "cell_type": "code",
   "execution_count": 4,
   "metadata": {},
   "outputs": [],
   "source": [
    "bucket = s3.Bucket(\"datacont-piper\")"
   ]
  },
  {
   "cell_type": "code",
   "execution_count": 5,
   "metadata": {},
   "outputs": [
    {
     "data": {
      "text/plain": [
       "{'ResponseMetadata': {'RequestId': 'AFEBE5052F144763',\n",
       "  'HostId': 'ZNCsv4PbJjeshRrncagj+wWmLdYn+1PvtDS3VlQ/SHOvauEtfLMdFY5S3lun9mXRdqg+lU15v2U=',\n",
       "  'HTTPStatusCode': 200,\n",
       "  'HTTPHeaders': {'x-amz-id-2': 'ZNCsv4PbJjeshRrncagj+wWmLdYn+1PvtDS3VlQ/SHOvauEtfLMdFY5S3lun9mXRdqg+lU15v2U=',\n",
       "   'x-amz-request-id': 'AFEBE5052F144763',\n",
       "   'date': 'Mon, 05 Oct 2020 01:35:37 GMT',\n",
       "   'content-length': '0',\n",
       "   'server': 'AmazonS3'},\n",
       "  'RetryAttempts': 0}}"
      ]
     },
     "execution_count": 5,
     "metadata": {},
     "output_type": "execute_result"
    }
   ],
   "source": [
    "bucket.Acl().put(ACL='public-read')"
   ]
  },
  {
   "cell_type": "code",
   "execution_count": 6,
   "metadata": {
    "scrolled": true
   },
   "outputs": [],
   "source": [
    "#upload a new object into the bucket\n",
    "body = open('/Users/sue/Public/cs1660_CC/test-s3-upload.java', 'rb')"
   ]
  },
  {
   "cell_type": "code",
   "execution_count": 7,
   "metadata": {},
   "outputs": [],
   "source": [
    "o = s3.Object('datacont-piper', 'test').put(Body=body )"
   ]
  },
  {
   "cell_type": "code",
   "execution_count": 8,
   "metadata": {},
   "outputs": [],
   "source": [
    "body = open('/Users/sue/Public/cs1660_CC/experiments.csv', 'rb')\n",
    "o = s3.Object('datacont-piper', 'testcsv').put(Body=body )"
   ]
  },
  {
   "cell_type": "code",
   "execution_count": 9,
   "metadata": {},
   "outputs": [
    {
     "data": {
      "text/plain": [
       "{'ResponseMetadata': {'RequestId': '232616D37BC375FF',\n",
       "  'HostId': '8EolREd+oWMA7M7Hh1wC1JeUVbyPzhXs9btYwnqAyszFxS7m+09TMrUdery9EretH0WpmU9vu7s=',\n",
       "  'HTTPStatusCode': 200,\n",
       "  'HTTPHeaders': {'x-amz-id-2': '8EolREd+oWMA7M7Hh1wC1JeUVbyPzhXs9btYwnqAyszFxS7m+09TMrUdery9EretH0WpmU9vu7s=',\n",
       "   'x-amz-request-id': '232616D37BC375FF',\n",
       "   'date': 'Mon, 05 Oct 2020 01:35:39 GMT',\n",
       "   'content-length': '0',\n",
       "   'server': 'AmazonS3'},\n",
       "  'RetryAttempts': 0}}"
      ]
     },
     "execution_count": 9,
     "metadata": {},
     "output_type": "execute_result"
    }
   ],
   "source": [
    "s3.Object('datacont-piper', 'test').Acl().put(ACL='public-read')\n",
    "s3.Object('datacont-piper', 'testcsv').Acl().put(ACL='public-read')"
   ]
  },
  {
   "cell_type": "code",
   "execution_count": 10,
   "metadata": {},
   "outputs": [],
   "source": [
    "dyndb = boto3.resource('dynamodb',\n",
    " region_name='us-west-2',\n",
    " aws_access_key_id='',\n",
    " aws_secret_access_key=''\n",
    ")"
   ]
  },
  {
   "cell_type": "code",
   "execution_count": 11,
   "metadata": {},
   "outputs": [],
   "source": [
    "try:\n",
    "    table = dyndb.create_table(\n",
    "        TableName='myTable1',\n",
    "        KeySchema=[\n",
    "            {\n",
    "                'AttributeName': 'PartitionKey',\n",
    "                'KeyType': 'HASH'\n",
    "            },\n",
    "            {\n",
    "                'AttributeName': 'RowKey',\n",
    "                'KeyType': 'RANGE'\n",
    "            }\n",
    "        ],\n",
    "        AttributeDefinitions=[\n",
    "            {\n",
    "                'AttributeName': 'PartitionKey',\n",
    "                'AttributeType': 'S'\n",
    "            },\n",
    "            {\n",
    "                'AttributeName': 'RowKey',\n",
    "                'AttributeType': 'S'\n",
    "            },\n",
    "        ],\n",
    "        ProvisionedThroughput={\n",
    "            'ReadCapacityUnits': 5,\n",
    "            'WriteCapacityUnits': 5\n",
    "        }\n",
    "    )\n",
    "except:\n",
    "    #if there is an exception, the table may already exist. if so...\n",
    "    table = dyndb.Table(\"myTable1\")\n",
    "    \n",
    "table.meta.client.get_waiter('table_exists').wait(TableName='myTable1')  "
   ]
  },
  {
   "cell_type": "code",
   "execution_count": 12,
   "metadata": {},
   "outputs": [
    {
     "name": "stdout",
     "output_type": "stream",
     "text": [
      "0\n"
     ]
    }
   ],
   "source": [
    "print(table.item_count)"
   ]
  },
  {
   "cell_type": "code",
   "execution_count": 13,
   "metadata": {},
   "outputs": [],
   "source": [
    "import csv"
   ]
  },
  {
   "cell_type": "code",
   "execution_count": 14,
   "metadata": {},
   "outputs": [
    {
     "name": "stdout",
     "output_type": "stream",
     "text": [
      "['\\ufeffexperiment1', '1', '3/15/2002', 'exp1', 'this is the comment']\n",
      "['experiment2', '2', '3/15/2002', 'exp2', 'this is the comment2']\n",
      "['experiment3', '3', '3/16/2002', 'exp3', 'this is the comment3']\n",
      "['experiment4', '4', '3/16/2002', 'exp4', 'this is the comment233']\n"
     ]
    }
   ],
   "source": [
    "with open('/Users/sue/Public/cs1660_CC/experiments.csv', 'r', newline='') as csvfile:\n",
    "    csvf = csv.reader(csvfile, delimiter=',', quotechar='|')\n",
    "    for item in csvf:\n",
    "        print(item)\n",
    "\n",
    "        metadata_item = {\n",
    "            'PartitionKey': item[0], \n",
    "            'RowKey': item[1], \n",
    "            'description' : item[4], \n",
    "            'date' : item[2]\n",
    "        }\n",
    "\n",
    "        try:\n",
    "            table.put_item(Item=metadata_item)\n",
    "        except:\n",
    "            print(\"item may already be there or another failure\")"
   ]
  },
  {
   "cell_type": "code",
   "execution_count": 15,
   "metadata": {},
   "outputs": [],
   "source": [
    "response = table.get_item(\n",
    " Key={\n",
    " 'PartitionKey': 'experiment1',\n",
    " 'RowKey': '4'\n",
    " }\n",
    ")"
   ]
  },
  {
   "cell_type": "code",
   "execution_count": 16,
   "metadata": {},
   "outputs": [
    {
     "data": {
      "text/plain": [
       "{'ResponseMetadata': {'RequestId': 'RK5K515D4RAOQKB94MF7KLUA5NVV4KQNSO5AEMVJF66Q9ASUAAJG',\n",
       "  'HTTPStatusCode': 200,\n",
       "  'HTTPHeaders': {'server': 'Server',\n",
       "   'date': 'Mon, 05 Oct 2020 01:35:39 GMT',\n",
       "   'content-type': 'application/x-amz-json-1.0',\n",
       "   'content-length': '2',\n",
       "   'connection': 'keep-alive',\n",
       "   'x-amzn-requestid': 'RK5K515D4RAOQKB94MF7KLUA5NVV4KQNSO5AEMVJF66Q9ASUAAJG',\n",
       "   'x-amz-crc32': '2745614147'},\n",
       "  'RetryAttempts': 0}}"
      ]
     },
     "execution_count": 16,
     "metadata": {},
     "output_type": "execute_result"
    }
   ],
   "source": [
    "response"
   ]
  },
  {
   "cell_type": "code",
   "execution_count": null,
   "metadata": {},
   "outputs": [],
   "source": []
  }
 ],
 "metadata": {
  "kernelspec": {
   "display_name": "Python 3",
   "language": "python",
   "name": "python3"
  },
  "language_info": {
   "codemirror_mode": {
    "name": "ipython",
    "version": 3
   },
   "file_extension": ".py",
   "mimetype": "text/x-python",
   "name": "python",
   "nbconvert_exporter": "python",
   "pygments_lexer": "ipython3",
   "version": "3.8.5"
  }
 },
 "nbformat": 4,
 "nbformat_minor": 4
}
